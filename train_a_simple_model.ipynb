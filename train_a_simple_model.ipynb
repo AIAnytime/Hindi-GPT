{
  "nbformat": 4,
  "nbformat_minor": 0,
  "metadata": {
    "colab": {
      "provenance": [],
      "machine_shape": "hm",
      "gpuType": "A100"
    },
    "kernelspec": {
      "name": "python3",
      "display_name": "Python 3"
    },
    "language_info": {
      "name": "python"
    },
    "accelerator": "GPU"
  },
  "cells": [
    {
      "cell_type": "code",
      "execution_count": 2,
      "metadata": {
        "id": "hvWeJ54DIRD3"
      },
      "outputs": [],
      "source": [
        "import torch\n",
        "import torch.nn as nn #neural network\n",
        "import torch.optim as optim #optimize\n",
        "from torch.utils.data import DataLoader, Dataset\n",
        "import math\n",
        "import numpy as np\n",
        "import matplotlib.pyplot as plt\n",
        "from collections import Counter #character count krne ke liye\n",
        "import re #text saaf safai krne ke liye"
      ]
    },
    {
      "cell_type": "code",
      "source": [
        "device = torch.device('cuda' if torch.cuda.is_available() else 'cpu')\n",
        "print(f\"Device in use: {device}\")"
      ],
      "metadata": {
        "colab": {
          "base_uri": "https://localhost:8080/"
        },
        "id": "V39EpDuQIhhA",
        "outputId": "b151f3fc-b05f-438e-b4d6-89a2962ba965"
      },
      "execution_count": 3,
      "outputs": [
        {
          "output_type": "stream",
          "name": "stdout",
          "text": [
            "Device in use: cuda\n"
          ]
        }
      ]
    },
    {
      "cell_type": "code",
      "source": [
        "import re\n",
        "from collections import Counter\n",
        "\n",
        "class SimpleTokenizer:\n",
        "    def __init__(self):\n",
        "        self.vocab = {}\n",
        "        self.idx_to_token = {}\n",
        "        self.vocab_size = 0\n",
        "\n",
        "    def build_vocab(self, texts, min_freq=2):\n",
        "        # Character-level tokenization for Hindi\n",
        "        all_chars = []\n",
        "        for text in texts:\n",
        "            # Keep Hindi characters (\\u0900–\\u097F), whitespace, and basic punctuation\n",
        "            cleaned_text = re.sub(r'[^\\u0900-\\u097F\\s.,!?।]', '', text)\n",
        "            all_chars.extend(list(cleaned_text))\n",
        "\n",
        "        # Count character frequency\n",
        "        char_counts = Counter(all_chars)\n",
        "\n",
        "        # Add special tokens\n",
        "        self.vocab = {'<pad>': 0, '<unk>': 1, '<bos>': 2, '<eos>': 3}\n",
        "        self.idx_to_token = {0: '<pad>', 1: '<unk>', 2: '<bos>', 3: '<eos>'}\n",
        "\n",
        "        # Add frequent characters to vocabulary\n",
        "        idx = 4\n",
        "        for char, count in char_counts.most_common():\n",
        "            if count >= min_freq:\n",
        "                self.vocab[char] = idx\n",
        "                self.idx_to_token[idx] = char\n",
        "                idx += 1\n",
        "\n",
        "        self.vocab_size = len(self.vocab)\n",
        "        print(f\"🔤 Hindi Vocabulary Size: {self.vocab_size}\")\n",
        "\n",
        "    def encode(self, text):\n",
        "        tokens = [self.vocab['<bos>']]\n",
        "        for char in text:\n",
        "            tokens.append(self.vocab.get(char, self.vocab['<unk>']))\n",
        "        tokens.append(self.vocab['<eos>'])\n",
        "        return tokens\n",
        "\n",
        "    def decode(self, token_ids):\n",
        "      text = \"\"\n",
        "      for token_id in token_ids:\n",
        "          if token_id in [self.vocab['<pad>'], self.vocab['<bos>'], self.vocab['<eos>']]:\n",
        "              continue\n",
        "          elif token_id == self.vocab['<unk>']:\n",
        "              text += \"�\"  # unknown character\n",
        "          else:\n",
        "              text += self.idx_to_token.get(token_id, \"\")  # don’t return � for missing keys\n",
        "      return text"
      ],
      "metadata": {
        "id": "ih-fbkbDIyR5"
      },
      "execution_count": 4,
      "outputs": []
    },
    {
      "cell_type": "code",
      "source": [
        "sample_texts_hi = [\n",
        "    \"आज मौसम बहुत अच्छा है।\",\n",
        "    \"मैं स्कूल जा रहा हूँ।\",\n",
        "    \"तुम क्या कर रहे हो?\",\n",
        "    \"मुझे चाय पसंद है।\",\n",
        "    \"यह किताब बहुत रोचक है।\",\n",
        "    \"हम पार्क में खेलते हैं।\",\n",
        "    \"कल मेरी परीक्षा है।\",\n",
        "    \"माँ खाना बना रही हैं।\",\n",
        "    \"सड़क पर बहुत ट्रैफिक है।\",\n",
        "    \"मैं संगीत सुनना पसंद करता हूँ।\",\n",
        "    \"तुम्हारा नाम क्या है?\",\n",
        "    \"भारत एक सुंदर देश है।\",\n",
        "    \"हमने फिल्म देखी।\",\n",
        "    \"बिल्ली कुर्सी पर सो रही है।\",\n",
        "    \"खिड़की से हवा आ रही है।\",\n",
        "    \"पढ़ाई समय पर करनी चाहिए।\",\n",
        "    \"पापा दफ्तर जा चुके हैं।\",\n",
        "    \"छुट्टी के दिन मैं घूमने गया।\",\n",
        "    \"बच्चे मैदान में दौड़ रहे हैं।\",\n",
        "    \"आज रात को चाँदनी बहुत सुंदर है।\"\n",
        "]"
      ],
      "metadata": {
        "id": "MOFRVnFOJ4tZ"
      },
      "execution_count": 5,
      "outputs": []
    },
    {
      "cell_type": "code",
      "source": [
        "tokenizer = SimpleTokenizer()\n",
        "tokenizer.build_vocab(sample_texts_hi)"
      ],
      "metadata": {
        "colab": {
          "base_uri": "https://localhost:8080/"
        },
        "id": "cpcpW2RoKEYq",
        "outputId": "a9a266f1-60ae-464f-8ae0-817d7338e44a"
      },
      "execution_count": 6,
      "outputs": [
        {
          "output_type": "stream",
          "name": "stdout",
          "text": [
            "🔤 Hindi Vocabulary Size: 42\n"
          ]
        }
      ]
    },
    {
      "cell_type": "code",
      "source": [
        "class TextDataset(Dataset):\n",
        "    def __init__(self, texts, tokenizer, max_length=64):\n",
        "        self.tokenizer = tokenizer\n",
        "        self.max_length = max_length\n",
        "        self.data = []\n",
        "\n",
        "        for text in texts:\n",
        "            tokens = tokenizer.encode(text)\n",
        "            if len(tokens) <= max_length:\n",
        "                tokens += [tokenizer.vocab['<pad>']] * (max_length - len(tokens))\n",
        "                self.data.append(tokens)\n",
        "\n",
        "    def __len__(self):\n",
        "        return len(self.data)\n",
        "\n",
        "    def __getitem__(self, idx):\n",
        "        tokens = self.data[idx]\n",
        "        input_ids = torch.tensor(tokens[:-1], dtype=torch.long)\n",
        "        target_ids = torch.tensor(tokens[1:], dtype=torch.long)\n",
        "        return input_ids, target_ids"
      ],
      "metadata": {
        "id": "pGOzWc4oKG-5"
      },
      "execution_count": 9,
      "outputs": []
    },
    {
      "cell_type": "code",
      "source": [
        "dataset = TextDataset(sample_texts_hi, tokenizer)\n",
        "dataloader = DataLoader(dataset, batch_size=4, shuffle=True)"
      ],
      "metadata": {
        "id": "Cw0zkL-NKN3v"
      },
      "execution_count": 10,
      "outputs": []
    },
    {
      "cell_type": "code",
      "source": [
        "class MultiHeadAttention(nn.Module):\n",
        "    def __init__(self, d_model, n_heads):\n",
        "        super().__init__()\n",
        "        self.d_model = d_model\n",
        "        self.n_heads = n_heads\n",
        "        self.d_k = d_model // n_heads\n",
        "\n",
        "        self.w_q = nn.Linear(d_model, d_model)\n",
        "        self.w_k = nn.Linear(d_model, d_model)\n",
        "        self.w_v = nn.Linear(d_model, d_model)\n",
        "        self.w_o = nn.Linear(d_model, d_model)\n",
        "\n",
        "    def forward(self, x, mask=None):\n",
        "        batch_size, seq_len, d_model = x.size()\n",
        "\n",
        "\n",
        "        Q = self.w_q(x).view(batch_size, seq_len, self.n_heads, self.d_k).transpose(1, 2)\n",
        "        K = self.w_k(x).view(batch_size, seq_len, self.n_heads, self.d_k).transpose(1, 2)\n",
        "        V = self.w_v(x).view(batch_size, seq_len, self.n_heads, self.d_k).transpose(1, 2)\n",
        "\n",
        "\n",
        "        scores = torch.matmul(Q, K.transpose(-2, -1)) / math.sqrt(self.d_k)\n",
        "\n",
        "        if mask is not None:\n",
        "            scores = scores.masked_fill(mask == 0, -1e9)\n",
        "\n",
        "        attention_weights = torch.softmax(scores, dim=-1)\n",
        "        context = torch.matmul(attention_weights, V)\n",
        "\n",
        "\n",
        "        context = context.transpose(1, 2).contiguous().view(batch_size, seq_len, d_model)\n",
        "        output = self.w_o(context)\n",
        "\n",
        "        return output"
      ],
      "metadata": {
        "id": "GlGVY1sNKSut"
      },
      "execution_count": 16,
      "outputs": []
    },
    {
      "cell_type": "code",
      "source": [
        "class FeedForward(nn.Module):\n",
        "    def __init__(self, d_model, d_ff):\n",
        "        super().__init__()\n",
        "        self.fc1 = nn.Linear(d_model, d_ff)\n",
        "        self.fc2 = nn.Linear(d_ff, d_model)\n",
        "        self.relu = nn.ReLU()\n",
        "\n",
        "    def forward(self, x):\n",
        "        return self.fc2(self.relu(self.fc1(x)))"
      ],
      "metadata": {
        "id": "EAvBhWpgKaLH"
      },
      "execution_count": 17,
      "outputs": []
    },
    {
      "cell_type": "code",
      "source": [
        "class TransformerBlock(nn.Module):\n",
        "    def __init__(self, d_model, n_heads, d_ff, dropout=0.1):\n",
        "        super().__init__()\n",
        "        self.attention = MultiHeadAttention(d_model, n_heads)\n",
        "        self.feed_forward = FeedForward(d_model, d_ff)\n",
        "        self.norm1 = nn.LayerNorm(d_model)\n",
        "        self.norm2 = nn.LayerNorm(d_model)\n",
        "        self.dropout = nn.Dropout(dropout)\n",
        "\n",
        "    def forward(self, x, mask=None):\n",
        "        # Self-attention\n",
        "        attn_output = self.attention(x, mask)\n",
        "        x = self.norm1(x + self.dropout(attn_output))\n",
        "\n",
        "        # Feed forward\n",
        "        ff_output = self.feed_forward(x)\n",
        "        x = self.norm2(x + self.dropout(ff_output))\n",
        "\n",
        "        return x"
      ],
      "metadata": {
        "id": "Px3oFadvKdES"
      },
      "execution_count": 18,
      "outputs": []
    },
    {
      "cell_type": "code",
      "source": [
        "class SimpleLLM(nn.Module):\n",
        "    def __init__(self, vocab_size, d_model=128, n_heads=8, n_layers=4, d_ff=512, max_length=64):\n",
        "        super().__init__()\n",
        "        self.d_model = d_model\n",
        "        self.max_length = max_length\n",
        "\n",
        "\n",
        "        self.token_embedding = nn.Embedding(vocab_size, d_model)\n",
        "        self.position_embedding = nn.Embedding(max_length, d_model)\n",
        "\n",
        "\n",
        "        self.transformer_blocks = nn.ModuleList([\n",
        "            TransformerBlock(d_model, n_heads, d_ff) for _ in range(n_layers)\n",
        "        ])\n",
        "\n",
        "\n",
        "        self.ln_f = nn.LayerNorm(d_model)\n",
        "        self.head = nn.Linear(d_model, vocab_size)\n",
        "\n",
        "    def forward(self, input_ids):\n",
        "        batch_size, seq_len = input_ids.size()\n",
        "\n",
        "\n",
        "        positions = torch.arange(seq_len, device=input_ids.device).unsqueeze(0).expand(batch_size, -1)\n",
        "\n",
        "\n",
        "        token_emb = self.token_embedding(input_ids)\n",
        "        pos_emb = self.position_embedding(positions)\n",
        "        x = token_emb + pos_emb\n",
        "\n",
        "\n",
        "        mask = torch.tril(torch.ones(seq_len, seq_len)).unsqueeze(0).unsqueeze(0).to(input_ids.device)\n",
        "\n",
        "\n",
        "        for block in self.transformer_blocks:\n",
        "            x = block(x, mask)\n",
        "\n",
        "        x = self.ln_f(x)\n",
        "        logits = self.head(x)\n",
        "\n",
        "        return logits"
      ],
      "metadata": {
        "id": "4kedW1NIKfUY"
      },
      "execution_count": 19,
      "outputs": []
    },
    {
      "cell_type": "code",
      "source": [
        "model = SimpleLLM(vocab_size=tokenizer.vocab_size, d_model=128, n_heads=8, n_layers=4).to(device)\n",
        "optimizer = optim.Adam(model.parameters(), lr=0.001)\n",
        "criterion = nn.CrossEntropyLoss(ignore_index=tokenizer.vocab['<pad>'])"
      ],
      "metadata": {
        "id": "Fij4wNAWKnJE"
      },
      "execution_count": 21,
      "outputs": []
    },
    {
      "cell_type": "code",
      "source": [
        "print(f\"{sum(p.numel() for p in model.parameters()):,}\")"
      ],
      "metadata": {
        "colab": {
          "base_uri": "https://localhost:8080/"
        },
        "id": "l8TcuVDkKqNY",
        "outputId": "ea8f5cce-55dd-41ba-9f9c-c5b7ef4e8aeb"
      },
      "execution_count": 22,
      "outputs": [
        {
          "output_type": "stream",
          "name": "stdout",
          "text": [
            "812,330\n"
          ]
        }
      ]
    },
    {
      "cell_type": "code",
      "source": [
        "def train_model(model, dataloader, optimizer, criterion, epochs=50):\n",
        "    model.train()\n",
        "    losses = []\n",
        "\n",
        "    for epoch in range(epochs):\n",
        "        epoch_loss = 0\n",
        "        for batch_idx, (input_ids, target_ids) in enumerate(dataloader):\n",
        "            input_ids, target_ids = input_ids.to(device), target_ids.to(device)\n",
        "\n",
        "            optimizer.zero_grad()\n",
        "            logits = model(input_ids)\n",
        "\n",
        "\n",
        "            loss = criterion(logits.view(-1, logits.size(-1)), target_ids.view(-1))\n",
        "            loss.backward()\n",
        "            optimizer.step()\n",
        "\n",
        "            epoch_loss += loss.item()\n",
        "\n",
        "        avg_loss = epoch_loss / len(dataloader)\n",
        "        losses.append(avg_loss)\n",
        "\n",
        "        if (epoch + 1) % 10 == 0:\n",
        "            print(f\"Epoch {epoch+1}/{epochs}, Loss: {avg_loss:.4f}\")\n",
        "\n",
        "    return losses"
      ],
      "metadata": {
        "id": "uBvzPamKKv-q"
      },
      "execution_count": 23,
      "outputs": []
    },
    {
      "cell_type": "code",
      "source": [
        "losses = train_model(model, dataloader, optimizer, criterion, epochs=100)"
      ],
      "metadata": {
        "colab": {
          "base_uri": "https://localhost:8080/"
        },
        "id": "NYjX-tQmK1AR",
        "outputId": "40688c3e-81e1-4d1c-c609-dfae686088c4"
      },
      "execution_count": 24,
      "outputs": [
        {
          "output_type": "stream",
          "name": "stdout",
          "text": [
            "Epoch 10/100, Loss: 0.6459\n",
            "Epoch 20/100, Loss: 0.1813\n",
            "Epoch 30/100, Loss: 0.1578\n",
            "Epoch 40/100, Loss: 0.1512\n",
            "Epoch 50/100, Loss: 0.1418\n",
            "Epoch 60/100, Loss: 0.1436\n",
            "Epoch 70/100, Loss: 0.1435\n",
            "Epoch 80/100, Loss: 0.1397\n",
            "Epoch 90/100, Loss: 0.1348\n",
            "Epoch 100/100, Loss: 0.1331\n"
          ]
        }
      ]
    },
    {
      "cell_type": "code",
      "source": [
        "plt.figure(figsize=(10, 6))\n",
        "plt.plot(losses)\n",
        "plt.title('Training Loss')\n",
        "plt.xlabel('Epoch')\n",
        "plt.ylabel('Loss')\n",
        "plt.grid(True)\n",
        "plt.show()"
      ],
      "metadata": {
        "colab": {
          "base_uri": "https://localhost:8080/",
          "height": 564
        },
        "id": "PkG7KwyEK3xy",
        "outputId": "3008e170-8086-4acf-cc9d-03e4097ca6bb"
      },
      "execution_count": 25,
      "outputs": [
        {
          "output_type": "display_data",
          "data": {
            "text/plain": [
              "<Figure size 1000x600 with 1 Axes>"
            ],
            "image/png": "[encoded data removed]"
          },
          "metadata": {}
        }
      ]
    },
    {
      "cell_type": "code",
      "source": [
        "def generate_text(model, tokenizer, prompt=\"मैं\", max_length=50, temperature=0.8):\n",
        "    model.eval()\n",
        "    device = next(model.parameters()).device  # Automatically detect model's device\n",
        "\n",
        "    with torch.no_grad():\n",
        "        # Encode prompt and move to device\n",
        "        tokens = tokenizer.encode(prompt)\n",
        "        input_ids = torch.tensor([tokens], dtype=torch.long).to(device)\n",
        "\n",
        "        generated = tokens.copy()\n",
        "\n",
        "        for _ in range(max_length):\n",
        "            if input_ids.size(1) >= getattr(model, \"max_length\", 512):\n",
        "                break\n",
        "\n",
        "            # Forward pass\n",
        "            logits = model(input_ids)\n",
        "            next_token_logits = logits[0, -1, :] / temperature\n",
        "\n",
        "            probabilities = torch.softmax(next_token_logits, dim=-1)\n",
        "            next_token = torch.multinomial(probabilities, 1).item()\n",
        "\n",
        "            if next_token == tokenizer.vocab['<eos>']:\n",
        "                break\n",
        "\n",
        "            generated.append(next_token)\n",
        "\n",
        "            new_token = torch.tensor([[next_token]], dtype=torch.long).to(device)\n",
        "            input_ids = torch.cat([input_ids, new_token], dim=1)\n",
        "\n",
        "        return tokenizer.decode(generated)"
      ],
      "metadata": {
        "id": "QV3o-pYyK7lH"
      },
      "execution_count": 26,
      "outputs": []
    },
    {
      "cell_type": "code",
      "source": [
        "text = generate_text(model, tokenizer, prompt=\"मैं स्कूल\", max_length=60, temperature=0.9)\n",
        "print(\"👉 Generated Hindi text:\\n\", text)"
      ],
      "metadata": {
        "colab": {
          "base_uri": "https://localhost:8080/"
        },
        "id": "Ty4w3s0GM34H",
        "outputId": "0176bc82-0ac6-4397-a00d-5aa8a6048f09"
      },
      "execution_count": 27,
      "outputs": [
        {
          "output_type": "stream",
          "name": "stdout",
          "text": [
            "👉 Generated Hindi text:\n",
            " मैं स्कूल जा रना है।\n"
          ]
        }
      ]
    },
    {
      "cell_type": "code",
      "source": [
        "print(\"\\n=== हिंदी टेक्स्ट जनरेशन टेस्ट ===\")\n",
        "\n",
        "test_prompts = [\n",
        "    \"मैं\",\n",
        "    \"आज\",\n",
        "    \"खिड़की\",\n",
        "    \"पढ़ाई\",\n",
        "    \"बिल्ली\"\n",
        "]\n",
        "\n",
        "for prompt in test_prompts:\n",
        "    print(f\"\\nप्रॉम्प्ट: '{prompt}'\")\n",
        "    for i in range(3):\n",
        "        generated_text = generate_text(model, tokenizer, prompt, max_length=30, temperature=0.8)\n",
        "        print(f\"  📝 जनरेशन {i+1}: {generated_text}\")"
      ],
      "metadata": {
        "colab": {
          "base_uri": "https://localhost:8080/"
        },
        "id": "TzCkPleJLL-t",
        "outputId": "d13cc492-a169-4316-80d5-4fe1797fa677"
      },
      "execution_count": 28,
      "outputs": [
        {
          "output_type": "stream",
          "name": "stdout",
          "text": [
            "\n",
            "=== हिंदी टेक्स्ट जनरेशन टेस्ट ===\n",
            "\n",
            "प्रॉम्प्ट: 'मैं'\n",
            "  📝 जनरेशन 1: मैंसंगीत सुनना पसंद करता हूँ।\n",
            "  📝 जनरेशन 2: मैंसंगीत सुनना पसंद करता हूँ।\n",
            "  📝 जनरेशन 3: मैंसंगीत सुनना पसंद करता हूँ।\n",
            "\n",
            "प्रॉम्प्ट: 'आज'\n",
            "  📝 जनरेशन 1: आजरात को चाँदनी बहुत सुंदर है।\n",
            "  📝 जनरेशन 2: आजरात को चाँदनी बहुत सुंदर है।\n",
            "  📝 जनरेशन 3: आजरात को चाँदनी बहुत सुंदर है।\n",
            "\n",
            "प्रॉम्प्ट: 'खिड़की'\n",
            "  📝 जनरेशन 1: खिड़कीसे ह�ा आ रही है।\n",
            "  📝 जनरेशन 2: खिड़कीसे ह�ा आ रही है।\n",
            "  📝 जनरेशन 3: खिड़कीसे ह�ा ै।\n",
            "\n",
            "प्रॉम्प्ट: 'पढ़ाई'\n",
            "  📝 जनरेशन 1: प�़ा� कुसुत करनी चाहिए।\n",
            "  📝 जनरेशन 2: प�़ा�़के पर करनी चाहिए।\n",
            "  📝 जनरेशन 3: प�़ा� के पर करनी चाहिए।\n",
            "\n",
            "प्रॉम्प्ट: 'बिल्ली'\n",
            "  📝 जनरेशन 1: बिल्लीकुर्सी पर सो रही है।\n",
            "  📝 जनरेशन 2: बिल्लीकुर्सी पर सो रही है।\n",
            "  📝 जनरेशन 3: बिल्लीकुर्सी पर सो रही है।\n"
          ]
        }
      ]
    },
    {
      "cell_type": "code",
      "source": [
        "def analyze_attention(model, text, layer_idx=0):\n",
        "    \"\"\"अटेंशन वज़न का विज़ुअलाइज़ेशन\"\"\"\n",
        "    model.eval()\n",
        "    with torch.no_grad():\n",
        "        tokens = tokenizer.encode(text)\n",
        "        input_ids = torch.tensor([tokens], dtype=torch.long).to(device)\n",
        "\n",
        "        # चुने गए लेयर का अटेंशन वज़न कैप्चर करने के लिए हुक\n",
        "        attention_weights = None\n",
        "\n",
        "        def hook_fn(module, input, output):\n",
        "            nonlocal attention_weights\n",
        "            # MultiHeadAttention की आंतरिक प्रक्रिया को कॉपी करते हैं\n",
        "            x = input[0]\n",
        "            batch_size, seq_len, d_model = x.size()\n",
        "            Q = module.w_q(x).view(batch_size, seq_len, module.n_heads, module.d_k).transpose(1, 2)\n",
        "            K = module.w_k(x).view(batch_size, seq_len, module.n_heads, module.d_k).transpose(1, 2)\n",
        "            scores = torch.matmul(Q, K.transpose(-2, -1)) / math.sqrt(module.d_k)\n",
        "            attention_weights = torch.softmax(scores, dim=-1)\n",
        "\n",
        "        # हुक को रजिस्टर करना\n",
        "        hook = model.transformer_blocks[layer_idx].attention.register_forward_hook(hook_fn)\n",
        "\n",
        "        # फॉरवर्ड पास रन करना\n",
        "        _ = model(input_ids)\n",
        "\n",
        "        # हुक हटाना\n",
        "        hook.remove()\n",
        "\n",
        "        if attention_weights is not None:\n",
        "            # सभी हेड्स का एवरेज अटेंशन निकालना\n",
        "            avg_attention = attention_weights[0].mean(dim=0).cpu().numpy()\n",
        "\n",
        "            # टोकन टेक्स्ट तैयार करना विज़ुअलाइज़ेशन के लिए\n",
        "            tokens_text = [tokenizer.idx_to_token.get(t, '?') for t in tokens]\n",
        "\n",
        "            # विज़ुअलाइज़ेशन (Attention Heatmap)\n",
        "            plt.figure(figsize=(10, 8))\n",
        "            plt.imshow(avg_attention, cmap='Blues')\n",
        "            plt.colorbar()\n",
        "            plt.title(f'अटेंशन वज़न (लेयर {layer_idx})')\n",
        "            plt.xlabel('की पोज़िशन')\n",
        "            plt.ylabel('क्वेरी पोज़िशन')\n",
        "            plt.xticks(range(len(tokens_text)), tokens_text, rotation=45)\n",
        "            plt.yticks(range(len(tokens_text)), tokens_text)\n",
        "            plt.tight_layout()\n",
        "            plt.show()"
      ],
      "metadata": {
        "id": "IXLRSLKGLUCc"
      },
      "execution_count": 29,
      "outputs": []
    },
    {
      "cell_type": "code",
      "source": [
        "# अटेंशन मैकेनिज़्म का विज़ुअलाइज़ेशन\n",
        "print(\"\\n=== अटेंशन मैकेनिज़्म का विज़ुअलाइज़ेशन ===\")\n",
        "analyze_attention(model, \"बिल्ली खिड़की के पास सो रही है।\", layer_idx=0)\n",
        "\n",
        "print(\"\\n=== LLM निर्माण का अनुभव पूरा हुआ ===\")\n",
        "print(\"इस कोड के माध्यम से आपने जो सीखा:\")\n",
        "print(\"1. हिंदी टेक्स्ट टोकनाइज़ेशन\")\n",
        "print(\"2. Transformer आर्किटेक्चर का इम्प्लीमेंटेशन\")\n",
        "print(\"3. लैंग्वेज मॉडल की ट्रेनिंग\")\n",
        "print(\"4. टेक्स्ट जनरेशन\")\n",
        "print(\"5. अटेंशन वज़न का विज़ुअलाइज़ेशन\")\n",
        "print(\"\\nऔर बेहतर मॉडल और परिणामों के लिए अधिक डेटा और कंप्यूटिंग संसाधन की आवश्यकता होगी।\")"
      ],
      "metadata": {
        "id": "HvlT-TOoL8Wb",
        "colab": {
          "base_uri": "https://localhost:8080/",
          "height": 1000
        },
        "outputId": "8d6df988-1f96-4e7b-cdf1-79e65ff280e9"
      },
      "execution_count": 30,
      "outputs": [
        {
          "output_type": "stream",
          "name": "stdout",
          "text": [
            "\n",
            "=== अटेंशन मैकेनिज़्म का विज़ुअलाइज़ेशन ===\n"
          ]
        },
        {
          "output_type": "stream",
          "name": "stderr",
          "text": [
            "/tmp/ipython-input-29-2573987529.py:46: UserWarning: Glyph 2348 (\\N{DEVANAGARI LETTER BA}) missing from font(s) DejaVu Sans.\n",
            "  plt.tight_layout()\n",
            "/tmp/ipython-input-29-2573987529.py:46: UserWarning: Matplotlib currently does not support Devanagari natively.\n",
            "  plt.tight_layout()\n",
            "/tmp/ipython-input-29-2573987529.py:46: UserWarning: Glyph 2367 (\\N{DEVANAGARI VOWEL SIGN I}) missing from font(s) DejaVu Sans.\n",
            "  plt.tight_layout()\n",
            "/tmp/ipython-input-29-2573987529.py:46: UserWarning: Glyph 2354 (\\N{DEVANAGARI LETTER LA}) missing from font(s) DejaVu Sans.\n",
            "  plt.tight_layout()\n",
            "/tmp/ipython-input-29-2573987529.py:46: UserWarning: Glyph 2381 (\\N{DEVANAGARI SIGN VIRAMA}) missing from font(s) DejaVu Sans.\n",
            "  plt.tight_layout()\n",
            "/tmp/ipython-input-29-2573987529.py:46: UserWarning: Glyph 2368 (\\N{DEVANAGARI VOWEL SIGN II}) missing from font(s) DejaVu Sans.\n",
            "  plt.tight_layout()\n",
            "/tmp/ipython-input-29-2573987529.py:46: UserWarning: Glyph 2326 (\\N{DEVANAGARI LETTER KHA}) missing from font(s) DejaVu Sans.\n",
            "  plt.tight_layout()\n",
            "/tmp/ipython-input-29-2573987529.py:46: UserWarning: Glyph 2337 (\\N{DEVANAGARI LETTER DDA}) missing from font(s) DejaVu Sans.\n",
            "  plt.tight_layout()\n",
            "/tmp/ipython-input-29-2573987529.py:46: UserWarning: Glyph 2364 (\\N{DEVANAGARI SIGN NUKTA}) missing from font(s) DejaVu Sans.\n",
            "  plt.tight_layout()\n",
            "/tmp/ipython-input-29-2573987529.py:46: UserWarning: Glyph 2325 (\\N{DEVANAGARI LETTER KA}) missing from font(s) DejaVu Sans.\n",
            "  plt.tight_layout()\n",
            "/tmp/ipython-input-29-2573987529.py:46: UserWarning: Glyph 2375 (\\N{DEVANAGARI VOWEL SIGN E}) missing from font(s) DejaVu Sans.\n",
            "  plt.tight_layout()\n",
            "/tmp/ipython-input-29-2573987529.py:46: UserWarning: Glyph 2346 (\\N{DEVANAGARI LETTER PA}) missing from font(s) DejaVu Sans.\n",
            "  plt.tight_layout()\n",
            "/tmp/ipython-input-29-2573987529.py:46: UserWarning: Glyph 2366 (\\N{DEVANAGARI VOWEL SIGN AA}) missing from font(s) DejaVu Sans.\n",
            "  plt.tight_layout()\n",
            "/tmp/ipython-input-29-2573987529.py:46: UserWarning: Glyph 2360 (\\N{DEVANAGARI LETTER SA}) missing from font(s) DejaVu Sans.\n",
            "  plt.tight_layout()\n",
            "/tmp/ipython-input-29-2573987529.py:46: UserWarning: Glyph 2379 (\\N{DEVANAGARI VOWEL SIGN O}) missing from font(s) DejaVu Sans.\n",
            "  plt.tight_layout()\n",
            "/tmp/ipython-input-29-2573987529.py:46: UserWarning: Glyph 2352 (\\N{DEVANAGARI LETTER RA}) missing from font(s) DejaVu Sans.\n",
            "  plt.tight_layout()\n",
            "/tmp/ipython-input-29-2573987529.py:46: UserWarning: Glyph 2361 (\\N{DEVANAGARI LETTER HA}) missing from font(s) DejaVu Sans.\n",
            "  plt.tight_layout()\n",
            "/tmp/ipython-input-29-2573987529.py:46: UserWarning: Glyph 2376 (\\N{DEVANAGARI VOWEL SIGN AI}) missing from font(s) DejaVu Sans.\n",
            "  plt.tight_layout()\n",
            "/tmp/ipython-input-29-2573987529.py:46: UserWarning: Glyph 2404 (\\N{DEVANAGARI DANDA}) missing from font(s) DejaVu Sans.\n",
            "  plt.tight_layout()\n",
            "/tmp/ipython-input-29-2573987529.py:46: UserWarning: Glyph 2332 (\\N{DEVANAGARI LETTER JA}) missing from font(s) DejaVu Sans.\n",
            "  plt.tight_layout()\n",
            "/tmp/ipython-input-29-2573987529.py:46: UserWarning: Glyph 2358 (\\N{DEVANAGARI LETTER SHA}) missing from font(s) DejaVu Sans.\n",
            "  plt.tight_layout()\n",
            "/tmp/ipython-input-29-2573987529.py:46: UserWarning: Glyph 2344 (\\N{DEVANAGARI LETTER NA}) missing from font(s) DejaVu Sans.\n",
            "  plt.tight_layout()\n",
            "/tmp/ipython-input-29-2573987529.py:46: UserWarning: Glyph 2357 (\\N{DEVANAGARI LETTER VA}) missing from font(s) DejaVu Sans.\n",
            "  plt.tight_layout()\n",
            "/tmp/ipython-input-29-2573987529.py:46: UserWarning: Glyph 2309 (\\N{DEVANAGARI LETTER A}) missing from font(s) DejaVu Sans.\n",
            "  plt.tight_layout()\n",
            "/tmp/ipython-input-29-2573987529.py:46: UserWarning: Glyph 2335 (\\N{DEVANAGARI LETTER TTA}) missing from font(s) DejaVu Sans.\n",
            "  plt.tight_layout()\n",
            "/tmp/ipython-input-29-2573987529.py:46: UserWarning: Glyph 2306 (\\N{DEVANAGARI SIGN ANUSVARA}) missing from font(s) DejaVu Sans.\n",
            "  plt.tight_layout()\n",
            "/tmp/ipython-input-29-2573987529.py:46: UserWarning: Glyph 2351 (\\N{DEVANAGARI LETTER YA}) missing from font(s) DejaVu Sans.\n",
            "  plt.tight_layout()\n",
            "/usr/local/lib/python3.11/dist-packages/IPython/core/pylabtools.py:151: UserWarning: Glyph 2348 (\\N{DEVANAGARI LETTER BA}) missing from font(s) DejaVu Sans.\n",
            "  fig.canvas.print_figure(bytes_io, **kw)\n",
            "/usr/local/lib/python3.11/dist-packages/IPython/core/pylabtools.py:151: UserWarning: Matplotlib currently does not support Devanagari natively.\n",
            "  fig.canvas.print_figure(bytes_io, **kw)\n",
            "/usr/local/lib/python3.11/dist-packages/IPython/core/pylabtools.py:151: UserWarning: Glyph 2367 (\\N{DEVANAGARI VOWEL SIGN I}) missing from font(s) DejaVu Sans.\n",
            "  fig.canvas.print_figure(bytes_io, **kw)\n",
            "/usr/local/lib/python3.11/dist-packages/IPython/core/pylabtools.py:151: UserWarning: Glyph 2354 (\\N{DEVANAGARI LETTER LA}) missing from font(s) DejaVu Sans.\n",
            "  fig.canvas.print_figure(bytes_io, **kw)\n",
            "/usr/local/lib/python3.11/dist-packages/IPython/core/pylabtools.py:151: UserWarning: Glyph 2381 (\\N{DEVANAGARI SIGN VIRAMA}) missing from font(s) DejaVu Sans.\n",
            "  fig.canvas.print_figure(bytes_io, **kw)\n",
            "/usr/local/lib/python3.11/dist-packages/IPython/core/pylabtools.py:151: UserWarning: Glyph 2368 (\\N{DEVANAGARI VOWEL SIGN II}) missing from font(s) DejaVu Sans.\n",
            "  fig.canvas.print_figure(bytes_io, **kw)\n",
            "/usr/local/lib/python3.11/dist-packages/IPython/core/pylabtools.py:151: UserWarning: Glyph 2326 (\\N{DEVANAGARI LETTER KHA}) missing from font(s) DejaVu Sans.\n",
            "  fig.canvas.print_figure(bytes_io, **kw)\n",
            "/usr/local/lib/python3.11/dist-packages/IPython/core/pylabtools.py:151: UserWarning: Glyph 2337 (\\N{DEVANAGARI LETTER DDA}) missing from font(s) DejaVu Sans.\n",
            "  fig.canvas.print_figure(bytes_io, **kw)\n",
            "/usr/local/lib/python3.11/dist-packages/IPython/core/pylabtools.py:151: UserWarning: Glyph 2364 (\\N{DEVANAGARI SIGN NUKTA}) missing from font(s) DejaVu Sans.\n",
            "  fig.canvas.print_figure(bytes_io, **kw)\n",
            "/usr/local/lib/python3.11/dist-packages/IPython/core/pylabtools.py:151: UserWarning: Glyph 2325 (\\N{DEVANAGARI LETTER KA}) missing from font(s) DejaVu Sans.\n",
            "  fig.canvas.print_figure(bytes_io, **kw)\n",
            "/usr/local/lib/python3.11/dist-packages/IPython/core/pylabtools.py:151: UserWarning: Glyph 2375 (\\N{DEVANAGARI VOWEL SIGN E}) missing from font(s) DejaVu Sans.\n",
            "  fig.canvas.print_figure(bytes_io, **kw)\n",
            "/usr/local/lib/python3.11/dist-packages/IPython/core/pylabtools.py:151: UserWarning: Glyph 2346 (\\N{DEVANAGARI LETTER PA}) missing from font(s) DejaVu Sans.\n",
            "  fig.canvas.print_figure(bytes_io, **kw)\n",
            "/usr/local/lib/python3.11/dist-packages/IPython/core/pylabtools.py:151: UserWarning: Glyph 2366 (\\N{DEVANAGARI VOWEL SIGN AA}) missing from font(s) DejaVu Sans.\n",
            "  fig.canvas.print_figure(bytes_io, **kw)\n",
            "/usr/local/lib/python3.11/dist-packages/IPython/core/pylabtools.py:151: UserWarning: Glyph 2360 (\\N{DEVANAGARI LETTER SA}) missing from font(s) DejaVu Sans.\n",
            "  fig.canvas.print_figure(bytes_io, **kw)\n",
            "/usr/local/lib/python3.11/dist-packages/IPython/core/pylabtools.py:151: UserWarning: Glyph 2379 (\\N{DEVANAGARI VOWEL SIGN O}) missing from font(s) DejaVu Sans.\n",
            "  fig.canvas.print_figure(bytes_io, **kw)\n",
            "/usr/local/lib/python3.11/dist-packages/IPython/core/pylabtools.py:151: UserWarning: Glyph 2352 (\\N{DEVANAGARI LETTER RA}) missing from font(s) DejaVu Sans.\n",
            "  fig.canvas.print_figure(bytes_io, **kw)\n",
            "/usr/local/lib/python3.11/dist-packages/IPython/core/pylabtools.py:151: UserWarning: Glyph 2361 (\\N{DEVANAGARI LETTER HA}) missing from font(s) DejaVu Sans.\n",
            "  fig.canvas.print_figure(bytes_io, **kw)\n",
            "/usr/local/lib/python3.11/dist-packages/IPython/core/pylabtools.py:151: UserWarning: Glyph 2376 (\\N{DEVANAGARI VOWEL SIGN AI}) missing from font(s) DejaVu Sans.\n",
            "  fig.canvas.print_figure(bytes_io, **kw)\n",
            "/usr/local/lib/python3.11/dist-packages/IPython/core/pylabtools.py:151: UserWarning: Glyph 2404 (\\N{DEVANAGARI DANDA}) missing from font(s) DejaVu Sans.\n",
            "  fig.canvas.print_figure(bytes_io, **kw)\n",
            "/usr/local/lib/python3.11/dist-packages/IPython/core/pylabtools.py:151: UserWarning: Glyph 2357 (\\N{DEVANAGARI LETTER VA}) missing from font(s) DejaVu Sans.\n",
            "  fig.canvas.print_figure(bytes_io, **kw)\n",
            "/usr/local/lib/python3.11/dist-packages/IPython/core/pylabtools.py:151: UserWarning: Glyph 2332 (\\N{DEVANAGARI LETTER JA}) missing from font(s) DejaVu Sans.\n",
            "  fig.canvas.print_figure(bytes_io, **kw)\n",
            "/usr/local/lib/python3.11/dist-packages/IPython/core/pylabtools.py:151: UserWarning: Glyph 2358 (\\N{DEVANAGARI LETTER SHA}) missing from font(s) DejaVu Sans.\n",
            "  fig.canvas.print_figure(bytes_io, **kw)\n",
            "/usr/local/lib/python3.11/dist-packages/IPython/core/pylabtools.py:151: UserWarning: Glyph 2344 (\\N{DEVANAGARI LETTER NA}) missing from font(s) DejaVu Sans.\n",
            "  fig.canvas.print_figure(bytes_io, **kw)\n",
            "/usr/local/lib/python3.11/dist-packages/IPython/core/pylabtools.py:151: UserWarning: Glyph 2309 (\\N{DEVANAGARI LETTER A}) missing from font(s) DejaVu Sans.\n",
            "  fig.canvas.print_figure(bytes_io, **kw)\n",
            "/usr/local/lib/python3.11/dist-packages/IPython/core/pylabtools.py:151: UserWarning: Glyph 2335 (\\N{DEVANAGARI LETTER TTA}) missing from font(s) DejaVu Sans.\n",
            "  fig.canvas.print_figure(bytes_io, **kw)\n",
            "/usr/local/lib/python3.11/dist-packages/IPython/core/pylabtools.py:151: UserWarning: Glyph 2306 (\\N{DEVANAGARI SIGN ANUSVARA}) missing from font(s) DejaVu Sans.\n",
            "  fig.canvas.print_figure(bytes_io, **kw)\n",
            "/usr/local/lib/python3.11/dist-packages/IPython/core/pylabtools.py:151: UserWarning: Glyph 2351 (\\N{DEVANAGARI LETTER YA}) missing from font(s) DejaVu Sans.\n",
            "  fig.canvas.print_figure(bytes_io, **kw)\n"
          ]
        },
        {
          "output_type": "display_data",
          "data": {
            "text/plain": [
              "<Figure size 1000x800 with 2 Axes>"
            ],
            "image/png": "[encoded data removed]"
          },
          "metadata": {}
        },
        {
          "output_type": "stream",
          "name": "stdout",
          "text": [
            "\n",
            "=== LLM निर्माण का अनुभव पूरा हुआ ===\n",
            "इस कोड के माध्यम से आपने जो सीखा:\n",
            "1. हिंदी टेक्स्ट टोकनाइज़ेशन\n",
            "2. Transformer आर्किटेक्चर का इम्प्लीमेंटेशन\n",
            "3. लैंग्वेज मॉडल की ट्रेनिंग\n",
            "4. टेक्स्ट जनरेशन\n",
            "5. अटेंशन वज़न का विज़ुअलाइज़ेशन\n",
            "\n",
            "और बेहतर मॉडल और परिणामों के लिए अधिक डेटा और कंप्यूटिंग संसाधन की आवश्यकता होगी।\n"
          ]
        }
      ]
    },
    {
      "cell_type": "code",
      "source": [],
      "metadata": {
        "id": "IFgrAHBWOO1Q"
      },
      "execution_count": null,
      "outputs": []
    }
  ]
}